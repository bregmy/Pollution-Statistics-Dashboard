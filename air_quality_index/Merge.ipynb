{
 "cells": [
  {
   "cell_type": "code",
   "execution_count": 2,
   "metadata": {
    "pycharm": {
     "is_executing": true,
     "name": "#%%\n"
    }
   },
   "outputs": [],
   "source": [
    "import pandas as pd\n",
    "\n",
    "# Assuming your dataset is in a CSV file named 'your_dataset.csv'\n",
    "# Replace 'your_dataset.csv' with the actual file path if needed"
   ]
  },
  {
   "cell_type": "code",
   "execution_count": 10,
   "metadata": {
    "pycharm": {
     "name": "#%%\n"
    }
   },
   "outputs": [],
   "source": [
    "file_path1 = 'daily_co_summary_data (1).csv'\n",
    "\n",
    "\n",
    "# Read the datasets\n",
    "df1 = pd.read_csv(file_path1)\n",
    "\n"
   ]
  },
  {
   "cell_type": "code",
   "execution_count": 11,
   "metadata": {},
   "outputs": [
    {
     "data": {
      "text/html": [
       "<div>\n",
       "<style scoped>\n",
       "    .dataframe tbody tr th:only-of-type {\n",
       "        vertical-align: middle;\n",
       "    }\n",
       "\n",
       "    .dataframe tbody tr th {\n",
       "        vertical-align: top;\n",
       "    }\n",
       "\n",
       "    .dataframe thead th {\n",
       "        text-align: right;\n",
       "    }\n",
       "</style>\n",
       "<table border=\"1\" class=\"dataframe\">\n",
       "  <thead>\n",
       "    <tr style=\"text-align: right;\">\n",
       "      <th></th>\n",
       "      <th>state_code</th>\n",
       "      <th>county_code</th>\n",
       "      <th>site_num</th>\n",
       "      <th>site_id</th>\n",
       "      <th>parameter_code</th>\n",
       "      <th>parameter_occurrence_code</th>\n",
       "      <th>coordinate</th>\n",
       "      <th>datum</th>\n",
       "      <th>parameter_name</th>\n",
       "      <th>sample_duration</th>\n",
       "      <th>...</th>\n",
       "      <th>air_quality_index</th>\n",
       "      <th>method_code</th>\n",
       "      <th>method_name</th>\n",
       "      <th>local_site_name</th>\n",
       "      <th>address</th>\n",
       "      <th>state_name</th>\n",
       "      <th>county_name</th>\n",
       "      <th>city_name</th>\n",
       "      <th>cbsa_name</th>\n",
       "      <th>date_of_last_change</th>\n",
       "    </tr>\n",
       "  </thead>\n",
       "  <tbody>\n",
       "    <tr>\n",
       "      <th>0</th>\n",
       "      <td>50</td>\n",
       "      <td>7</td>\n",
       "      <td>9</td>\n",
       "      <td>6a322a2b5bc4890ab4e0b036eadaaabe</td>\n",
       "      <td>42101</td>\n",
       "      <td>1</td>\n",
       "      <td>(0,0)</td>\n",
       "      <td>UNKNOWN</td>\n",
       "      <td>Carbon monoxide</td>\n",
       "      <td>8-HR RUN AVG END HOUR</td>\n",
       "      <td>...</td>\n",
       "      <td>7.0</td>\n",
       "      <td>NaN</td>\n",
       "      <td>-</td>\n",
       "      <td>NaN</td>\n",
       "      <td>LINCOLN ST. (BASEMENT OF TOWN OFFICES)</td>\n",
       "      <td>Vermont</td>\n",
       "      <td>Chittenden</td>\n",
       "      <td>Essex (Essex Center)</td>\n",
       "      <td>Burlington-South Burlington, VT</td>\n",
       "      <td>2021-11-09</td>\n",
       "    </tr>\n",
       "    <tr>\n",
       "      <th>1</th>\n",
       "      <td>50</td>\n",
       "      <td>7</td>\n",
       "      <td>9</td>\n",
       "      <td>6a322a2b5bc4890ab4e0b036eadaaabe</td>\n",
       "      <td>42101</td>\n",
       "      <td>2</td>\n",
       "      <td>(0,0)</td>\n",
       "      <td>UNKNOWN</td>\n",
       "      <td>Carbon monoxide</td>\n",
       "      <td>8-HR RUN AVG END HOUR</td>\n",
       "      <td>...</td>\n",
       "      <td>14.0</td>\n",
       "      <td>NaN</td>\n",
       "      <td>-</td>\n",
       "      <td>NaN</td>\n",
       "      <td>LINCOLN ST. (BASEMENT OF TOWN OFFICES)</td>\n",
       "      <td>Vermont</td>\n",
       "      <td>Chittenden</td>\n",
       "      <td>Essex (Essex Center)</td>\n",
       "      <td>Burlington-South Burlington, VT</td>\n",
       "      <td>2021-11-09</td>\n",
       "    </tr>\n",
       "    <tr>\n",
       "      <th>2</th>\n",
       "      <td>50</td>\n",
       "      <td>7</td>\n",
       "      <td>9</td>\n",
       "      <td>6a322a2b5bc4890ab4e0b036eadaaabe</td>\n",
       "      <td>42101</td>\n",
       "      <td>1</td>\n",
       "      <td>(0,0)</td>\n",
       "      <td>UNKNOWN</td>\n",
       "      <td>Carbon monoxide</td>\n",
       "      <td>8-HR RUN AVG END HOUR</td>\n",
       "      <td>...</td>\n",
       "      <td>7.0</td>\n",
       "      <td>NaN</td>\n",
       "      <td>-</td>\n",
       "      <td>NaN</td>\n",
       "      <td>LINCOLN ST. (BASEMENT OF TOWN OFFICES)</td>\n",
       "      <td>Vermont</td>\n",
       "      <td>Chittenden</td>\n",
       "      <td>Essex (Essex Center)</td>\n",
       "      <td>Burlington-South Burlington, VT</td>\n",
       "      <td>2021-11-09</td>\n",
       "    </tr>\n",
       "    <tr>\n",
       "      <th>3</th>\n",
       "      <td>50</td>\n",
       "      <td>7</td>\n",
       "      <td>8</td>\n",
       "      <td>f30b09cab6cd3fd2df4abbe937cb86ff</td>\n",
       "      <td>42101</td>\n",
       "      <td>1</td>\n",
       "      <td>(0,0)</td>\n",
       "      <td>UNKNOWN</td>\n",
       "      <td>Carbon monoxide</td>\n",
       "      <td>8-HR RUN AVG END HOUR</td>\n",
       "      <td>...</td>\n",
       "      <td>15.0</td>\n",
       "      <td>NaN</td>\n",
       "      <td>-</td>\n",
       "      <td>NaN</td>\n",
       "      <td>MAPLE STREET (BEHIND MOBIL STATION_)</td>\n",
       "      <td>Vermont</td>\n",
       "      <td>Chittenden</td>\n",
       "      <td>Essex (Essex Center)</td>\n",
       "      <td>Burlington-South Burlington, VT</td>\n",
       "      <td>2021-11-09</td>\n",
       "    </tr>\n",
       "    <tr>\n",
       "      <th>4</th>\n",
       "      <td>50</td>\n",
       "      <td>7</td>\n",
       "      <td>8</td>\n",
       "      <td>f30b09cab6cd3fd2df4abbe937cb86ff</td>\n",
       "      <td>42101</td>\n",
       "      <td>1</td>\n",
       "      <td>(0,0)</td>\n",
       "      <td>UNKNOWN</td>\n",
       "      <td>Carbon monoxide</td>\n",
       "      <td>8-HR RUN AVG END HOUR</td>\n",
       "      <td>...</td>\n",
       "      <td>23.0</td>\n",
       "      <td>NaN</td>\n",
       "      <td>-</td>\n",
       "      <td>NaN</td>\n",
       "      <td>MAPLE STREET (BEHIND MOBIL STATION_)</td>\n",
       "      <td>Vermont</td>\n",
       "      <td>Chittenden</td>\n",
       "      <td>Essex (Essex Center)</td>\n",
       "      <td>Burlington-South Burlington, VT</td>\n",
       "      <td>2021-11-09</td>\n",
       "    </tr>\n",
       "  </tbody>\n",
       "</table>\n",
       "<p>5 rows × 30 columns</p>\n",
       "</div>"
      ],
      "text/plain": [
       "   state_code  county_code  site_num                           site_id  \\\n",
       "0          50            7         9  6a322a2b5bc4890ab4e0b036eadaaabe   \n",
       "1          50            7         9  6a322a2b5bc4890ab4e0b036eadaaabe   \n",
       "2          50            7         9  6a322a2b5bc4890ab4e0b036eadaaabe   \n",
       "3          50            7         8  f30b09cab6cd3fd2df4abbe937cb86ff   \n",
       "4          50            7         8  f30b09cab6cd3fd2df4abbe937cb86ff   \n",
       "\n",
       "   parameter_code  parameter_occurrence_code coordinate    datum  \\\n",
       "0           42101                          1      (0,0)  UNKNOWN   \n",
       "1           42101                          2      (0,0)  UNKNOWN   \n",
       "2           42101                          1      (0,0)  UNKNOWN   \n",
       "3           42101                          1      (0,0)  UNKNOWN   \n",
       "4           42101                          1      (0,0)  UNKNOWN   \n",
       "\n",
       "    parameter_name        sample_duration  ... air_quality_index method_code  \\\n",
       "0  Carbon monoxide  8-HR RUN AVG END HOUR  ...               7.0         NaN   \n",
       "1  Carbon monoxide  8-HR RUN AVG END HOUR  ...              14.0         NaN   \n",
       "2  Carbon monoxide  8-HR RUN AVG END HOUR  ...               7.0         NaN   \n",
       "3  Carbon monoxide  8-HR RUN AVG END HOUR  ...              15.0         NaN   \n",
       "4  Carbon monoxide  8-HR RUN AVG END HOUR  ...              23.0         NaN   \n",
       "\n",
       "  method_name  local_site_name                                 address  \\\n",
       "0          -               NaN  LINCOLN ST. (BASEMENT OF TOWN OFFICES)   \n",
       "1          -               NaN  LINCOLN ST. (BASEMENT OF TOWN OFFICES)   \n",
       "2          -               NaN  LINCOLN ST. (BASEMENT OF TOWN OFFICES)   \n",
       "3          -               NaN    MAPLE STREET (BEHIND MOBIL STATION_)   \n",
       "4          -               NaN    MAPLE STREET (BEHIND MOBIL STATION_)   \n",
       "\n",
       "   state_name  county_name             city_name  \\\n",
       "0     Vermont   Chittenden  Essex (Essex Center)   \n",
       "1     Vermont   Chittenden  Essex (Essex Center)   \n",
       "2     Vermont   Chittenden  Essex (Essex Center)   \n",
       "3     Vermont   Chittenden  Essex (Essex Center)   \n",
       "4     Vermont   Chittenden  Essex (Essex Center)   \n",
       "\n",
       "                         cbsa_name  date_of_last_change  \n",
       "0  Burlington-South Burlington, VT           2021-11-09  \n",
       "1  Burlington-South Burlington, VT           2021-11-09  \n",
       "2  Burlington-South Burlington, VT           2021-11-09  \n",
       "3  Burlington-South Burlington, VT           2021-11-09  \n",
       "4  Burlington-South Burlington, VT           2021-11-09  \n",
       "\n",
       "[5 rows x 30 columns]"
      ]
     },
     "execution_count": 11,
     "metadata": {},
     "output_type": "execute_result"
    }
   ],
   "source": [
    "df1.head()"
   ]
  },
  {
   "cell_type": "code",
   "execution_count": 14,
   "metadata": {},
   "outputs": [],
   "source": [
    "df1['date'] = pd.to_datetime(df1['date_of_last_change'])\n",
    "df1['year'] = df1['date'].dt.year\n",
    "df1['fips'] = df1['state_code'].astype(str).str.zfill(2) + df1['county_code'].astype(str).str.zfill(3)\n",
    "\n",
    "grouped_df1 = df1.groupby(['fips', 'year'])['air_quality_index'].mean().reset_index()"
   ]
  },
  {
   "cell_type": "code",
   "execution_count": 15,
   "metadata": {},
   "outputs": [
    {
     "data": {
      "text/html": [
       "<div>\n",
       "<style scoped>\n",
       "    .dataframe tbody tr th:only-of-type {\n",
       "        vertical-align: middle;\n",
       "    }\n",
       "\n",
       "    .dataframe tbody tr th {\n",
       "        vertical-align: top;\n",
       "    }\n",
       "\n",
       "    .dataframe thead th {\n",
       "        text-align: right;\n",
       "    }\n",
       "</style>\n",
       "<table border=\"1\" class=\"dataframe\">\n",
       "  <thead>\n",
       "    <tr style=\"text-align: right;\">\n",
       "      <th></th>\n",
       "      <th>fips</th>\n",
       "      <th>year</th>\n",
       "      <th>air_quality_index</th>\n",
       "    </tr>\n",
       "  </thead>\n",
       "  <tbody>\n",
       "    <tr>\n",
       "      <th>0</th>\n",
       "      <td>01073</td>\n",
       "      <td>2021</td>\n",
       "      <td>16.990069</td>\n",
       "    </tr>\n",
       "    <tr>\n",
       "      <th>1</th>\n",
       "      <td>01073</td>\n",
       "      <td>2022</td>\n",
       "      <td>4.160554</td>\n",
       "    </tr>\n",
       "    <tr>\n",
       "      <th>2</th>\n",
       "      <td>01089</td>\n",
       "      <td>2021</td>\n",
       "      <td>11.313836</td>\n",
       "    </tr>\n",
       "    <tr>\n",
       "      <th>3</th>\n",
       "      <td>01097</td>\n",
       "      <td>2021</td>\n",
       "      <td>6.594458</td>\n",
       "    </tr>\n",
       "    <tr>\n",
       "      <th>4</th>\n",
       "      <td>01101</td>\n",
       "      <td>2021</td>\n",
       "      <td>2.072000</td>\n",
       "    </tr>\n",
       "  </tbody>\n",
       "</table>\n",
       "</div>"
      ],
      "text/plain": [
       "    fips  year  air_quality_index\n",
       "0  01073  2021          16.990069\n",
       "1  01073  2022           4.160554\n",
       "2  01089  2021          11.313836\n",
       "3  01097  2021           6.594458\n",
       "4  01101  2021           2.072000"
      ]
     },
     "execution_count": 15,
     "metadata": {},
     "output_type": "execute_result"
    }
   ],
   "source": [
    "grouped_df1.head()"
   ]
  },
  {
   "cell_type": "code",
   "execution_count": 17,
   "metadata": {},
   "outputs": [
    {
     "data": {
      "text/plain": [
       "603"
      ]
     },
     "execution_count": 17,
     "metadata": {},
     "output_type": "execute_result"
    }
   ],
   "source": [
    "len(grouped_df1)"
   ]
  },
  {
   "cell_type": "code",
   "execution_count": 18,
   "metadata": {},
   "outputs": [
    {
     "name": "stderr",
     "output_type": "stream",
     "text": [
      "/var/folders/ct/8zb_pz7d4m50z9pphc0dpg3h0000gn/T/ipykernel_37239/2614038396.py:2: DtypeWarning: Columns (2) have mixed types. Specify dtype option on import or set low_memory=False.\n",
      "  df2 = pd.read_csv(file_path2)\n"
     ]
    }
   ],
   "source": [
    "file_path2 = 'daily_aqi_by_county_1980_2022.csv'\n",
    "df2 = pd.read_csv(file_path2)\n"
   ]
  },
  {
   "cell_type": "code",
   "execution_count": 19,
   "metadata": {},
   "outputs": [],
   "source": [
    "# Convert the 'date' column to datetime\n",
    "df2['Date'] = pd.to_datetime(df2['Date'])\n",
    "df2['year'] = df2['Date'].dt.year\n",
    "df2['fips'] = df2['State_Code'].astype(str).str.zfill(2) + df2['County_Code'].astype(str).str.zfill(3)\n",
    "df2 = df2.rename(columns={'AQI': 'air_quality_index'})\n",
    "\n",
    "# Group by 'state_name', 'county_name', and year, and calculate the average AQI\n",
    "grouped_df2 = df2.groupby(['fips', 'year'])['air_quality_index'].mean().reset_index()"
   ]
  },
  {
   "cell_type": "code",
   "execution_count": 20,
   "metadata": {},
   "outputs": [
    {
     "data": {
      "text/html": [
       "<div>\n",
       "<style scoped>\n",
       "    .dataframe tbody tr th:only-of-type {\n",
       "        vertical-align: middle;\n",
       "    }\n",
       "\n",
       "    .dataframe tbody tr th {\n",
       "        vertical-align: top;\n",
       "    }\n",
       "\n",
       "    .dataframe thead th {\n",
       "        text-align: right;\n",
       "    }\n",
       "</style>\n",
       "<table border=\"1\" class=\"dataframe\">\n",
       "  <thead>\n",
       "    <tr style=\"text-align: right;\">\n",
       "      <th></th>\n",
       "      <th>fips</th>\n",
       "      <th>year_x</th>\n",
       "      <th>air_quality_index_x</th>\n",
       "      <th>year_y</th>\n",
       "      <th>air_quality_index_y</th>\n",
       "    </tr>\n",
       "  </thead>\n",
       "  <tbody>\n",
       "    <tr>\n",
       "      <th>0</th>\n",
       "      <td>01073</td>\n",
       "      <td>2021.0</td>\n",
       "      <td>16.990069</td>\n",
       "      <td>1980</td>\n",
       "      <td>62.563218</td>\n",
       "    </tr>\n",
       "    <tr>\n",
       "      <th>1</th>\n",
       "      <td>01073</td>\n",
       "      <td>2021.0</td>\n",
       "      <td>16.990069</td>\n",
       "      <td>1981</td>\n",
       "      <td>77.936986</td>\n",
       "    </tr>\n",
       "    <tr>\n",
       "      <th>2</th>\n",
       "      <td>01073</td>\n",
       "      <td>2021.0</td>\n",
       "      <td>16.990069</td>\n",
       "      <td>1982</td>\n",
       "      <td>67.594521</td>\n",
       "    </tr>\n",
       "    <tr>\n",
       "      <th>3</th>\n",
       "      <td>01073</td>\n",
       "      <td>2021.0</td>\n",
       "      <td>16.990069</td>\n",
       "      <td>1983</td>\n",
       "      <td>65.764384</td>\n",
       "    </tr>\n",
       "    <tr>\n",
       "      <th>4</th>\n",
       "      <td>01073</td>\n",
       "      <td>2021.0</td>\n",
       "      <td>16.990069</td>\n",
       "      <td>1984</td>\n",
       "      <td>52.379781</td>\n",
       "    </tr>\n",
       "  </tbody>\n",
       "</table>\n",
       "</div>"
      ],
      "text/plain": [
       "    fips  year_x  air_quality_index_x  year_y  air_quality_index_y\n",
       "0  01073  2021.0            16.990069    1980            62.563218\n",
       "1  01073  2021.0            16.990069    1981            77.936986\n",
       "2  01073  2021.0            16.990069    1982            67.594521\n",
       "3  01073  2021.0            16.990069    1983            65.764384\n",
       "4  01073  2021.0            16.990069    1984            52.379781"
      ]
     },
     "execution_count": 20,
     "metadata": {},
     "output_type": "execute_result"
    }
   ],
   "source": [
    "# Merge datasets on 'State_Name' and 'county_Name'\n",
    "merged_df = pd.merge(grouped_df1, grouped_df2, how='outer', left_on=['fips'], right_on=['fips'])\n",
    "\n",
    "\n",
    "\n",
    "# Convert the 'Date' column to datetime\n",
    "\n",
    "merged_df.head()"
   ]
  },
  {
   "cell_type": "code",
   "execution_count": 21,
   "metadata": {},
   "outputs": [
    {
     "data": {
      "text/plain": [
       "45595"
      ]
     },
     "execution_count": 21,
     "metadata": {},
     "output_type": "execute_result"
    }
   ],
   "source": [
    "len(merged_df)"
   ]
  },
  {
   "cell_type": "code",
   "execution_count": 22,
   "metadata": {},
   "outputs": [],
   "source": [
    "merged_df.to_csv('merged_yearly_fips.csv', index=False)"
   ]
  },
  {
   "cell_type": "code",
   "execution_count": null,
   "metadata": {},
   "outputs": [],
   "source": []
  }
 ],
 "metadata": {
  "kernelspec": {
   "display_name": "Python 3 (ipykernel)",
   "language": "python",
   "name": "python3"
  },
  "language_info": {
   "codemirror_mode": {
    "name": "ipython",
    "version": 3
   },
   "file_extension": ".py",
   "mimetype": "text/x-python",
   "name": "python",
   "nbconvert_exporter": "python",
   "pygments_lexer": "ipython3",
   "version": "3.8.16"
  }
 },
 "nbformat": 4,
 "nbformat_minor": 1
}